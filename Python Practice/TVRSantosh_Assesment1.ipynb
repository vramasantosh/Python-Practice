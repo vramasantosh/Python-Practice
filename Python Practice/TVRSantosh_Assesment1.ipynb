{
 "cells": [
  {
   "cell_type": "markdown",
   "id": "94d1f4d5",
   "metadata": {},
   "source": [
    "#### 1.(\"Hello World\")\n",
    "Print above Hello World"
   ]
  },
  {
   "cell_type": "markdown",
   "id": "ba63f03a",
   "metadata": {},
   "source": [
    "#### "
   ]
  },
  {
   "cell_type": "code",
   "execution_count": 2,
   "id": "6f6cd126",
   "metadata": {},
   "outputs": [
    {
     "data": {
      "text/plain": [
       "'Hello World'"
      ]
     },
     "execution_count": 2,
     "metadata": {},
     "output_type": "execute_result"
    }
   ],
   "source": [
    "\"Hello World\""
   ]
  },
  {
   "cell_type": "markdown",
   "id": "c1961b59",
   "metadata": {},
   "source": [
    "#### 2.This example misses indentations to be correct.\n",
    "\n",
    "Insert the missing indentation to make the code correct:\n",
    "\n",
    "\n",
    "if 5 > 2:\n",
    "\n",
    "print(\"Five is greater than two!\")"
   ]
  },
  {
   "cell_type": "code",
   "execution_count": 6,
   "id": "1a3adcef",
   "metadata": {},
   "outputs": [
    {
     "ename": "IndentationError",
     "evalue": "expected an indented block (3317150810.py, line 1)",
     "output_type": "error",
     "traceback": [
      "\u001b[1;36m  File \u001b[1;32m\"C:\\Users\\Sai Mahati\\AppData\\Local\\Temp\\ipykernel_21216\\3317150810.py\"\u001b[1;36m, line \u001b[1;32m1\u001b[0m\n\u001b[1;33m    if 5>2:\u001b[0m\n\u001b[1;37m           ^\u001b[0m\n\u001b[1;31mIndentationError\u001b[0m\u001b[1;31m:\u001b[0m expected an indented block\n"
     ]
    }
   ],
   "source": [
    "if 5>2:\n",
    "    "
   ]
  },
  {
   "cell_type": "markdown",
   "id": "fed4e579",
   "metadata": {},
   "source": [
    "#### 3.Comments in Python are written with a special character, which one?\n",
    "\n",
    "This is a comment - correct this statement to make it comment line\n",
    "#hint - use the symbol to comment the line"
   ]
  },
  {
   "cell_type": "code",
   "execution_count": null,
   "id": "d504fcd5",
   "metadata": {},
   "outputs": [],
   "source": [
    "# comment"
   ]
  },
  {
   "cell_type": "markdown",
   "id": "f5003b87",
   "metadata": {},
   "source": [
    "#### 4.Use a multiline string to make the a multi line comment:\n",
    "\n",
    "This is a comment\n",
    "written in \n",
    "more that just one line"
   ]
  },
  {
   "cell_type": "code",
   "execution_count": null,
   "id": "83b30985",
   "metadata": {},
   "outputs": [],
   "source": [
    "This is a comment \n",
    "written in \n",
    "more that just one line"
   ]
  },
  {
   "cell_type": "code",
   "execution_count": 7,
   "id": "bea7f2d2",
   "metadata": {
    "scrolled": true
   },
   "outputs": [
    {
     "ename": "SyntaxError",
     "evalue": "invalid syntax (263635029.py, line 1)",
     "output_type": "error",
     "traceback": [
      "\u001b[1;36m  File \u001b[1;32m\"C:\\Users\\Sai Mahati\\AppData\\Local\\Temp\\ipykernel_21216\\263635029.py\"\u001b[1;36m, line \u001b[1;32m1\u001b[0m\n\u001b[1;33m    *This(is, a, comment)\u001b[0m\n\u001b[1;37m          ^\u001b[0m\n\u001b[1;31mSyntaxError\u001b[0m\u001b[1;31m:\u001b[0m invalid syntax\n"
     ]
    }
   ],
   "source": []
  },
  {
   "cell_type": "markdown",
   "id": "dedc7d03",
   "metadata": {},
   "source": [
    "#### 5.Create a variable named carname and assign the value Ferrari to it."
   ]
  },
  {
   "cell_type": "code",
   "execution_count": 8,
   "id": "40200374",
   "metadata": {},
   "outputs": [],
   "source": [
    "car = \"Ferrari\""
   ]
  },
  {
   "cell_type": "markdown",
   "id": "89feb215",
   "metadata": {},
   "source": [
    "#### 6.Create a variable named x and assign the value 50 to it."
   ]
  },
  {
   "cell_type": "code",
   "execution_count": 9,
   "id": "17eed7a7",
   "metadata": {},
   "outputs": [],
   "source": [
    "X = 50"
   ]
  },
  {
   "cell_type": "markdown",
   "id": "076dfc1d",
   "metadata": {},
   "source": [
    "#### 7.Display the sum of 5 + 10, using two variables: x and y.\n",
    "   \n",
    "x= ?\n",
    "y = 10\n",
    "print(x ? y)"
   ]
  },
  {
   "cell_type": "code",
   "execution_count": 90,
   "id": "57ce2529",
   "metadata": {},
   "outputs": [
    {
     "name": "stdout",
     "output_type": "stream",
     "text": [
      "15\n"
     ]
    }
   ],
   "source": [
    "x = 5\n",
    "y = 10\n",
    "print(x + y)\n"
   ]
  },
  {
   "cell_type": "markdown",
   "id": "e08011d5",
   "metadata": {},
   "source": [
    "#### 8. The following code example would print the data type of x, what data type would that be?\n",
    "x = \"Hello World\"\n",
    "print(type(x))"
   ]
  },
  {
   "cell_type": "code",
   "execution_count": 23,
   "id": "165b0915",
   "metadata": {},
   "outputs": [
    {
     "name": "stdout",
     "output_type": "stream",
     "text": [
      "<class 'str'>\n"
     ]
    }
   ],
   "source": [
    "x= \"Hello World\"\n",
    "print(type(x))"
   ]
  },
  {
   "cell_type": "markdown",
   "id": "ccca51d0",
   "metadata": {},
   "source": [
    "#### 9.The following code example would print the data type of x, what data type would that be?\n",
    "print(type(x))"
   ]
  },
  {
   "cell_type": "code",
   "execution_count": null,
   "id": "d98b19f9",
   "metadata": {},
   "outputs": [],
   "source": [
    "# error - x value unsassigned"
   ]
  },
  {
   "cell_type": "markdown",
   "id": "40753e8a",
   "metadata": {},
   "source": [
    "#### 10.The following code example would print the data type of x, what data type would that be?\n",
    "x = True\n",
    "print(type(x))"
   ]
  },
  {
   "cell_type": "code",
   "execution_count": 28,
   "id": "bfdfb466",
   "metadata": {},
   "outputs": [
    {
     "name": "stdout",
     "output_type": "stream",
     "text": [
      "<class 'bool'>\n"
     ]
    }
   ],
   "source": [
    "x = True\n",
    "print(type(x))"
   ]
  },
  {
   "cell_type": "markdown",
   "id": "adbcd661",
   "metadata": {},
   "source": [
    "#### 11.Print the second item in the fruits list.\n",
    "\n",
    "fruits = [\"apple\", \"banana\", \"cherry\"]\n",
    "\n",
    "print()"
   ]
  },
  {
   "cell_type": "code",
   "execution_count": 31,
   "id": "de0cfd19",
   "metadata": {},
   "outputs": [
    {
     "name": "stdout",
     "output_type": "stream",
     "text": [
      "cherry\n"
     ]
    }
   ],
   "source": [
    "fruits =[\"apple\",\"banana\",'cherry']\n",
    "print(fruits[2])"
   ]
  },
  {
   "cell_type": "markdown",
   "id": "6c56a24d",
   "metadata": {},
   "source": [
    "#### 12.Use the remove method to remove \"banana\" from the fruits list.\n",
    "fruits = [\"apple\", \"banana\", \"cherry\"]"
   ]
  },
  {
   "cell_type": "code",
   "execution_count": 87,
   "id": "8b6275a8",
   "metadata": {},
   "outputs": [],
   "source": [
    "fruits =[\"apple\",\"banana\",'cherry']\n"
   ]
  },
  {
   "cell_type": "code",
   "execution_count": 89,
   "id": "04822053",
   "metadata": {},
   "outputs": [
    {
     "name": "stdout",
     "output_type": "stream",
     "text": [
      "['apple', 'cherry']\n"
     ]
    }
   ],
   "source": [
    "fruits.remove(\"banana\")\n",
    "\n",
    "print(fruits)"
   ]
  },
  {
   "cell_type": "code",
   "execution_count": 88,
   "id": "94987d45",
   "metadata": {},
   "outputs": [
    {
     "data": {
      "text/plain": [
       "['apple', 'banana', 'cherry']"
      ]
     },
     "execution_count": 88,
     "metadata": {},
     "output_type": "execute_result"
    }
   ],
   "source": [
    "fruits"
   ]
  },
  {
   "cell_type": "code",
   "execution_count": null,
   "id": "6e5be154",
   "metadata": {},
   "outputs": [],
   "source": []
  },
  {
   "cell_type": "markdown",
   "id": "27959a65",
   "metadata": {},
   "source": [
    "#### 13.Use a range of indexes to print the third, fourth, and fifth item in the tuple.\n",
    "\n",
    "\n",
    "fruits = (\"apple\", \"banana\", \"cherry\", \"orange\", \"kiwi\", \"melon\", \"mango\")\n",
    "\n",
    "\n",
    "print(fruits[\n",
    "])"
   ]
  },
  {
   "cell_type": "code",
   "execution_count": 69,
   "id": "29059869",
   "metadata": {},
   "outputs": [
    {
     "name": "stdout",
     "output_type": "stream",
     "text": [
      "('orange', 'kiwi', 'melon')\n"
     ]
    }
   ],
   "source": [
    "fruits = (\"apple\", \"banana\", \"cherry\", \"orange\", \"kiwi\", \"melon\", \"mango\")\n",
    "print(fruits[3:6])"
   ]
  },
  {
   "cell_type": "markdown",
   "id": "d2956680",
   "metadata": {},
   "source": [
    "#### 14.Add the key/value pair \"color\" : \"red\" to the car dictionary.\n",
    "car =\t{\n",
    "  \"brand\": \"Ford\",\n",
    "  \"model\": \"Mustang\",\n",
    "  \"year\": 1964\n",
    "}"
   ]
  },
  {
   "cell_type": "code",
   "execution_count": 60,
   "id": "0270b525",
   "metadata": {},
   "outputs": [],
   "source": [
    "car = { \"brand\": \"Ford\", \"model\": \"Mustang\", \"year\": 1964,\"color\" : \"red\" }\n"
   ]
  },
  {
   "cell_type": "markdown",
   "id": "1c17fa24",
   "metadata": {},
   "source": [
    "#### 15.Use the get method to print the value of the \"model\" key of the car dictionary.\n",
    "car =\t{\n",
    "  \"brand\": \"Ford\",\n",
    "  \"model\": \"Mustang\",\n",
    "  \"year\": 1964\n",
    "}\n",
    "\n",
    "\n",
    "print(\n",
    ")\n",
    "\n",
    "#hint get()"
   ]
  },
  {
   "cell_type": "code",
   "execution_count": 62,
   "id": "9eb955b9",
   "metadata": {},
   "outputs": [],
   "source": [
    "car = { \"brand\": \"Ford\", \"model\": \"Mustang\", \"year\": 1964 }"
   ]
  },
  {
   "cell_type": "code",
   "execution_count": 75,
   "id": "50a99e33",
   "metadata": {},
   "outputs": [],
   "source": [
    "x = car.get(\"model\")"
   ]
  },
  {
   "cell_type": "markdown",
   "id": "a6def92a",
   "metadata": {},
   "source": [
    "#### 15.Loop through the items in the fruits list.\n",
    "fruits = [\"apple\", \"banana\", \"cherry\"]\n",
    "\n",
    "? x ? fruits ?\n",
    "\n",
    "fruits\n",
    "print(x)"
   ]
  },
  {
   "cell_type": "code",
   "execution_count": 73,
   "id": "1bd42459",
   "metadata": {},
   "outputs": [],
   "source": [
    "fruits = [\"apple\", \"banana\", \"cherry\"]"
   ]
  },
  {
   "cell_type": "code",
   "execution_count": 74,
   "id": "46dadb25",
   "metadata": {},
   "outputs": [
    {
     "name": "stdout",
     "output_type": "stream",
     "text": [
      "apple\n",
      "banana\n",
      "cherry\n"
     ]
    }
   ],
   "source": [
    "for x in fruits:\n",
    "  print(x)"
   ]
  },
  {
   "cell_type": "markdown",
   "id": "6edaca94",
   "metadata": {},
   "source": [
    "#### 16.Use the range function to loop through a code set 6 times.\n",
    "\n",
    "\n",
    "for x in \n",
    ":\n",
    "print(x)"
   ]
  },
  {
   "cell_type": "code",
   "execution_count": null,
   "id": "74571381",
   "metadata": {},
   "outputs": [],
   "source": []
  },
  {
   "cell_type": "markdown",
   "id": "668c5ee4",
   "metadata": {},
   "source": [
    "#### 17.Insert the correct Pandas method to create a DataFrame.\n",
    "\n",
    "data =[2,4,6,8,'a']\n",
    "\n",
    "\n",
    "pd. ? (data)\n",
    "\n",
    "#import pandas\n",
    "\n",
    "#create dataframe"
   ]
  },
  {
   "cell_type": "code",
   "execution_count": null,
   "id": "b323b7cc",
   "metadata": {},
   "outputs": [],
   "source": []
  },
  {
   "cell_type": "markdown",
   "id": "6481e0b1",
   "metadata": {},
   "source": [
    "#### 18.Insert the correct syntax to return the first row of a DataFrame.\n",
    "\n",
    "\n",
    "df. ?[?]\n"
   ]
  },
  {
   "cell_type": "code",
   "execution_count": null,
   "id": "f0d338e4",
   "metadata": {},
   "outputs": [],
   "source": []
  },
  {
   "cell_type": "markdown",
   "id": "ef0955b9",
   "metadata": {},
   "source": [
    "#### 19.Insert the correct syntax for loading CSV files into a DataFrame.\n",
    "\n",
    "\n",
    "df.? (data)"
   ]
  },
  {
   "cell_type": "code",
   "execution_count": null,
   "id": "9a449b0c",
   "metadata": {},
   "outputs": [],
   "source": []
  },
  {
   "cell_type": "markdown",
   "id": "5a395d05",
   "metadata": {},
   "source": [
    "#### 20.Insert the correct syntax for loading a Python dictionary called \"data\" into a DataFrame.\n",
    "\n",
    "\n",
    "pd. ? (data)\n",
    "\n",
    "$try showing an example creating a dictionary"
   ]
  },
  {
   "cell_type": "code",
   "execution_count": 72,
   "id": "ad5ddaf9",
   "metadata": {},
   "outputs": [
    {
     "ename": "SyntaxError",
     "evalue": "invalid syntax (3635979210.py, line 5)",
     "output_type": "error",
     "traceback": [
      "\u001b[1;36m  File \u001b[1;32m\"C:\\Users\\Sai Mahati\\AppData\\Local\\Temp\\ipykernel_21216\\3635979210.py\"\u001b[1;36m, line \u001b[1;32m5\u001b[0m\n\u001b[1;33m    \"tech\":['AI','pyhton','java']\u001b[0m\n\u001b[1;37m    ^\u001b[0m\n\u001b[1;31mSyntaxError\u001b[0m\u001b[1;31m:\u001b[0m invalid syntax\n"
     ]
    }
   ],
   "source": [
    "import pandas as pd\n",
    "data = pd.DataFrame({\n",
    "    \"empno\":[1234,4356,9999],\n",
    "    \"name\":['santosh', 'test1','test2']\n",
    "    \"tech\":['AI','pyhton','java']\n",
    "})\n",
    "print(data)"
   ]
  },
  {
   "cell_type": "code",
   "execution_count": null,
   "id": "f9293ff9",
   "metadata": {},
   "outputs": [],
   "source": []
  }
 ],
 "metadata": {
  "kernelspec": {
   "display_name": "Python 3 (ipykernel)",
   "language": "python",
   "name": "python3"
  },
  "language_info": {
   "codemirror_mode": {
    "name": "ipython",
    "version": 3
   },
   "file_extension": ".py",
   "mimetype": "text/x-python",
   "name": "python",
   "nbconvert_exporter": "python",
   "pygments_lexer": "ipython3",
   "version": "3.9.13"
  }
 },
 "nbformat": 4,
 "nbformat_minor": 5
}
