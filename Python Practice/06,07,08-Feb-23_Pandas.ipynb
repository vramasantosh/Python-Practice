{
 "cells": [
  {
   "cell_type": "code",
   "execution_count": null,
   "id": "7f49f43d",
   "metadata": {},
   "outputs": [],
   "source": [
    "import os\n",
    "import pandas as pd\n"
   ]
  },
  {
   "cell_type": "code",
   "execution_count": null,
   "id": "5ddb95e2",
   "metadata": {},
   "outputs": [],
   "source": []
  },
  {
   "cell_type": "code",
   "execution_count": null,
   "id": "28fb55b8",
   "metadata": {},
   "outputs": [],
   "source": []
  },
  {
   "cell_type": "code",
   "execution_count": null,
   "id": "934e530d",
   "metadata": {},
   "outputs": [],
   "source": [
    "pd. __version__"
   ]
  },
  {
   "cell_type": "code",
   "execution_count": null,
   "id": "21d68ddd",
   "metadata": {},
   "outputs": [],
   "source": [
    "df = pd.read_csv(\"Santosh\\Python\\Python Practice\\Diabetes.csv\")"
   ]
  },
  {
   "cell_type": "code",
   "execution_count": null,
   "id": "cef3d97b",
   "metadata": {},
   "outputs": [],
   "source": [
    "df"
   ]
  },
  {
   "cell_type": "code",
   "execution_count": null,
   "id": "787c4604",
   "metadata": {},
   "outputs": [],
   "source": [
    "df.head()"
   ]
  },
  {
   "cell_type": "code",
   "execution_count": null,
   "id": "df18f7ed",
   "metadata": {},
   "outputs": [],
   "source": [
    "df.tail()"
   ]
  },
  {
   "cell_type": "code",
   "execution_count": null,
   "id": "13f47d1d",
   "metadata": {},
   "outputs": [],
   "source": [
    "df.sample()"
   ]
  },
  {
   "cell_type": "code",
   "execution_count": null,
   "id": "7df86254",
   "metadata": {},
   "outputs": [],
   "source": [
    "df.head(10)"
   ]
  },
  {
   "cell_type": "code",
   "execution_count": null,
   "id": "fd63e3e9",
   "metadata": {},
   "outputs": [],
   "source": [
    "df.tail(10)"
   ]
  },
  {
   "cell_type": "code",
   "execution_count": null,
   "id": "53dd87c3",
   "metadata": {},
   "outputs": [],
   "source": [
    "df.sample(10)"
   ]
  },
  {
   "cell_type": "code",
   "execution_count": null,
   "id": "6b9101ea",
   "metadata": {},
   "outputs": [],
   "source": [
    "read_json()\n",
    "read_csv()\n",
    "read_html()\n",
    "read_xls()"
   ]
  },
  {
   "cell_type": "code",
   "execution_count": null,
   "id": "0237982d",
   "metadata": {},
   "outputs": [],
   "source": [
    "url=\"URL Address\""
   ]
  },
  {
   "cell_type": "code",
   "execution_count": null,
   "id": "14725b0f",
   "metadata": {},
   "outputs": [],
   "source": [
    "filepath =\"URl\""
   ]
  },
  {
   "cell_type": "code",
   "execution_count": null,
   "id": "08cd511a",
   "metadata": {},
   "outputs": [],
   "source": [
    "df2 = pd.read_csv(filepath)"
   ]
  },
  {
   "cell_type": "code",
   "execution_count": null,
   "id": "d6db4fa6",
   "metadata": {},
   "outputs": [],
   "source": [
    "import os\n",
    "os.getcwd()\n"
   ]
  },
  {
   "cell_type": "code",
   "execution_count": null,
   "id": "209550f7",
   "metadata": {},
   "outputs": [],
   "source": [
    "os.chdir('/Santosh/Python/Python Practice/')"
   ]
  },
  {
   "cell_type": "code",
   "execution_count": null,
   "id": "5ee9f91b",
   "metadata": {},
   "outputs": [],
   "source": [
    "df3 = pd.read_csv('Diabetes.csv')"
   ]
  },
  {
   "cell_type": "markdown",
   "id": "310247f0",
   "metadata": {},
   "source": [
    "Identifing the missing data"
   ]
  },
  {
   "cell_type": "code",
   "execution_count": null,
   "id": "a4c36a00",
   "metadata": {},
   "outputs": [],
   "source": [
    "df.isna()"
   ]
  },
  {
   "cell_type": "code",
   "execution_count": null,
   "id": "d87d5ac8",
   "metadata": {},
   "outputs": [],
   "source": [
    "df.head()"
   ]
  },
  {
   "cell_type": "code",
   "execution_count": null,
   "id": "bf0beb94",
   "metadata": {},
   "outputs": [],
   "source": [
    "df.isna()\n",
    "Diabetes = df"
   ]
  },
  {
   "cell_type": "code",
   "execution_count": null,
   "id": "092d64e6",
   "metadata": {},
   "outputs": [],
   "source": [
    "df.isnull().sum()"
   ]
  },
  {
   "cell_type": "code",
   "execution_count": null,
   "id": "47748968",
   "metadata": {},
   "outputs": [],
   "source": [
    "Diabetes.columns"
   ]
  },
  {
   "cell_type": "code",
   "execution_count": null,
   "id": "4d4ad10e",
   "metadata": {},
   "outputs": [],
   "source": [
    "Diabetes[' Age (years)']"
   ]
  },
  {
   "cell_type": "code",
   "execution_count": null,
   "id": "f85a6eb3",
   "metadata": {},
   "outputs": [],
   "source": [
    "#datatypes\n",
    "Diabetes.dtypes"
   ]
  },
  {
   "cell_type": "code",
   "execution_count": null,
   "id": "ab04a5a3",
   "metadata": {},
   "outputs": [],
   "source": [
    "Diabetes.info"
   ]
  },
  {
   "cell_type": "code",
   "execution_count": null,
   "id": "cc1f806a",
   "metadata": {},
   "outputs": [],
   "source": [
    "Diabetes[' Class variable']"
   ]
  },
  {
   "cell_type": "code",
   "execution_count": null,
   "id": "e3f4715e",
   "metadata": {},
   "outputs": [],
   "source": [
    "Diabetes[' Class variable'].unique()"
   ]
  },
  {
   "cell_type": "code",
   "execution_count": null,
   "id": "eac490cd",
   "metadata": {},
   "outputs": [],
   "source": [
    "Diabetes[' Class variable'].value_counts()"
   ]
  },
  {
   "cell_type": "code",
   "execution_count": null,
   "id": "e76e12d8",
   "metadata": {},
   "outputs": [],
   "source": [
    "# Describes the Data\n",
    "Diabetes.describe()"
   ]
  },
  {
   "cell_type": "code",
   "execution_count": null,
   "id": "3f1f1589",
   "metadata": {},
   "outputs": [],
   "source": [
    "#Transpose the Data\n",
    "Diabetes.describe().T"
   ]
  },
  {
   "cell_type": "code",
   "execution_count": null,
   "id": "86fccaf8",
   "metadata": {},
   "outputs": [],
   "source": [
    "Diabetes[' Age (years)'].mean()"
   ]
  },
  {
   "cell_type": "code",
   "execution_count": null,
   "id": "fbc16861",
   "metadata": {},
   "outputs": [],
   "source": [
    "Diabetes[' Age (years)'].median()"
   ]
  },
  {
   "cell_type": "code",
   "execution_count": null,
   "id": "380181a7",
   "metadata": {},
   "outputs": [],
   "source": [
    "Diabetes[' Age (years)'].mode()"
   ]
  },
  {
   "cell_type": "code",
   "execution_count": null,
   "id": "9a4cb45c",
   "metadata": {},
   "outputs": [],
   "source": [
    "Diabetes.isna().any()"
   ]
  },
  {
   "cell_type": "code",
   "execution_count": null,
   "id": "8119552e",
   "metadata": {},
   "outputs": [],
   "source": [
    "Diabetes.iloc[0:10, 0:2]"
   ]
  },
  {
   "cell_type": "code",
   "execution_count": null,
   "id": "d03056fe",
   "metadata": {},
   "outputs": [],
   "source": [
    "Diabetes.columns"
   ]
  },
  {
   "cell_type": "code",
   "execution_count": null,
   "id": "f3ad46e0",
   "metadata": {},
   "outputs": [],
   "source": [
    "Diabetes.loc[0:5, ' Age (years)']"
   ]
  },
  {
   "cell_type": "code",
   "execution_count": null,
   "id": "7294dcb9",
   "metadata": {},
   "outputs": [],
   "source": [
    "Diabetes.loc[0:5,[' Age (years)', ' Class variable'] ]"
   ]
  },
  {
   "cell_type": "code",
   "execution_count": null,
   "id": "f699772c",
   "metadata": {},
   "outputs": [],
   "source": [
    "Diabetes.loc[0:5, :' Age (years)'] # "
   ]
  },
  {
   "cell_type": "code",
   "execution_count": null,
   "id": "3efe8e51",
   "metadata": {},
   "outputs": [],
   "source": []
  },
  {
   "cell_type": "code",
   "execution_count": null,
   "id": "e8305f6b",
   "metadata": {},
   "outputs": [],
   "source": []
  },
  {
   "cell_type": "code",
   "execution_count": null,
   "id": "5f152dea",
   "metadata": {},
   "outputs": [],
   "source": [
    "#list of tuples\n",
    "\n",
    "weather_data = [\n",
    "                ('1/1/2017', 32, 6, 'Rain'),\n",
    "                ('1/2/2017', 35, 7, 'Sunny'),\n",
    "                ('1/3/2017', 28, 2, 'Snow'),\n",
    "                ('1/4/2017', 24, 7, 'Snow'),\n",
    "                ('1/5/2017', 32, 4, 'Rain'),\n",
    "                ('1/6/2017', 31, 2, 'Sunny')\n",
    "               ]\n",
    "\n",
    "weather_data"
   ]
  },
  {
   "cell_type": "code",
   "execution_count": null,
   "id": "4f2e7349",
   "metadata": {},
   "outputs": [],
   "source": [
    "df = pd.DataFrame(weather_data, columns=['Date', 'Temperature', 'Windspeed', 'Event'])\n",
    "df"
   ]
  },
  {
   "cell_type": "code",
   "execution_count": null,
   "id": "aab9c78d",
   "metadata": {},
   "outputs": [],
   "source": [
    "df = pd.DataFrame(weather_data, Columns=['','',])\n",
    "df"
   ]
  },
  {
   "cell_type": "code",
   "execution_count": null,
   "id": "fbf83fe7",
   "metadata": {},
   "outputs": [],
   "source": [
    "df.to_csv('')"
   ]
  },
  {
   "cell_type": "code",
   "execution_count": null,
   "id": "be27f219",
   "metadata": {},
   "outputs": [],
   "source": [
    "df = pd.concat()"
   ]
  },
  {
   "cell_type": "code",
   "execution_count": null,
   "id": "661c1553",
   "metadata": {},
   "outputs": [],
   "source": []
  }
 ],
 "metadata": {
  "kernelspec": {
   "display_name": "Python 3 (ipykernel)",
   "language": "python",
   "name": "python3"
  },
  "language_info": {
   "codemirror_mode": {
    "name": "ipython",
    "version": 3
   },
   "file_extension": ".py",
   "mimetype": "text/x-python",
   "name": "python",
   "nbconvert_exporter": "python",
   "pygments_lexer": "ipython3",
   "version": "3.9.13"
  }
 },
 "nbformat": 4,
 "nbformat_minor": 5
}
