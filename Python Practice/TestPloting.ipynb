{
 "cells": [
  {
   "cell_type": "code",
   "execution_count": 1,
   "id": "b2b06c85",
   "metadata": {},
   "outputs": [],
   "source": [
    "import pandas as pd\n",
    "import matplotlib.pyplot as plt\n",
    "import numpy as np\n",
    "import os\n",
    "import seaborn as sns"
   ]
  },
  {
   "cell_type": "code",
   "execution_count": 2,
   "id": "e1c6ea10",
   "metadata": {},
   "outputs": [],
   "source": [
    "stdt = pd.read_csv(\"2009_Data.csv\")"
   ]
  },
  {
   "cell_type": "code",
   "execution_count": 3,
   "id": "b8d6100e",
   "metadata": {
    "scrolled": true
   },
   "outputs": [
    {
     "data": {
      "text/html": [
       "<div>\n",
       "<style scoped>\n",
       "    .dataframe tbody tr th:only-of-type {\n",
       "        vertical-align: middle;\n",
       "    }\n",
       "\n",
       "    .dataframe tbody tr th {\n",
       "        vertical-align: top;\n",
       "    }\n",
       "\n",
       "    .dataframe thead th {\n",
       "        text-align: right;\n",
       "    }\n",
       "</style>\n",
       "<table border=\"1\" class=\"dataframe\">\n",
       "  <thead>\n",
       "    <tr style=\"text-align: right;\">\n",
       "      <th></th>\n",
       "      <th>acname</th>\n",
       "      <th>partyname</th>\n",
       "      <th>partyvotes</th>\n",
       "      <th>boothno</th>\n",
       "      <th>candidatename</th>\n",
       "      <th>yearofpolling</th>\n",
       "      <th>mandal</th>\n",
       "      <th>village</th>\n",
       "      <th>villageAsECList</th>\n",
       "    </tr>\n",
       "  </thead>\n",
       "  <tbody>\n",
       "    <tr>\n",
       "      <th>0</th>\n",
       "      <td>Pedakurapadu</td>\n",
       "      <td>TDP</td>\n",
       "      <td>353</td>\n",
       "      <td>1</td>\n",
       "      <td>KOMMALAPATI SRIDHAR</td>\n",
       "      <td>2009</td>\n",
       "      <td>BELLAMKONDA</td>\n",
       "      <td>NANDIRAJUPALEM</td>\n",
       "      <td>Bellamkonda Sivaru Nandirajupalem</td>\n",
       "    </tr>\n",
       "    <tr>\n",
       "      <th>1</th>\n",
       "      <td>Pedakurapadu</td>\n",
       "      <td>INC</td>\n",
       "      <td>427</td>\n",
       "      <td>1</td>\n",
       "      <td>Pathan Noorjahan Begum</td>\n",
       "      <td>2009</td>\n",
       "      <td>BELLAMKONDA</td>\n",
       "      <td>NANDIRAJUPALEM</td>\n",
       "      <td>Bellamkonda Sivaru Nandirajupalem</td>\n",
       "    </tr>\n",
       "    <tr>\n",
       "      <th>2</th>\n",
       "      <td>Pedakurapadu</td>\n",
       "      <td>PRP</td>\n",
       "      <td>355</td>\n",
       "      <td>1</td>\n",
       "      <td>Basu Linga Reddy</td>\n",
       "      <td>2009</td>\n",
       "      <td>BELLAMKONDA</td>\n",
       "      <td>NANDIRAJUPALEM</td>\n",
       "      <td>Bellamkonda Sivaru Nandirajupalem</td>\n",
       "    </tr>\n",
       "    <tr>\n",
       "      <th>3</th>\n",
       "      <td>Pedakurapadu</td>\n",
       "      <td>TDP</td>\n",
       "      <td>227</td>\n",
       "      <td>2</td>\n",
       "      <td>KOMMALAPATI SRIDHAR</td>\n",
       "      <td>2009</td>\n",
       "      <td>BELLAMKONDA</td>\n",
       "      <td>NANDIRAJUPALEM</td>\n",
       "      <td>Nandirajupalem H/O. Bellamkonda</td>\n",
       "    </tr>\n",
       "    <tr>\n",
       "      <th>4</th>\n",
       "      <td>Pedakurapadu</td>\n",
       "      <td>INC</td>\n",
       "      <td>242</td>\n",
       "      <td>2</td>\n",
       "      <td>Pathan Noorjahan Begum</td>\n",
       "      <td>2009</td>\n",
       "      <td>BELLAMKONDA</td>\n",
       "      <td>NANDIRAJUPALEM</td>\n",
       "      <td>Nandirajupalem H/O. Bellamkonda</td>\n",
       "    </tr>\n",
       "    <tr>\n",
       "      <th>...</th>\n",
       "      <td>...</td>\n",
       "      <td>...</td>\n",
       "      <td>...</td>\n",
       "      <td>...</td>\n",
       "      <td>...</td>\n",
       "      <td>...</td>\n",
       "      <td>...</td>\n",
       "      <td>...</td>\n",
       "      <td>...</td>\n",
       "    </tr>\n",
       "    <tr>\n",
       "      <th>646</th>\n",
       "      <td>Pedakurapadu</td>\n",
       "      <td>INC</td>\n",
       "      <td>389</td>\n",
       "      <td>216</td>\n",
       "      <td>Pathan Noorjahan Begum</td>\n",
       "      <td>2009</td>\n",
       "      <td>AMARAVATHI</td>\n",
       "      <td>MANDEPUDI</td>\n",
       "      <td>Nemalikallu Sivaru Mandepudi</td>\n",
       "    </tr>\n",
       "    <tr>\n",
       "      <th>647</th>\n",
       "      <td>Pedakurapadu</td>\n",
       "      <td>PRP</td>\n",
       "      <td>31</td>\n",
       "      <td>216</td>\n",
       "      <td>Basu Linga Reddy</td>\n",
       "      <td>2009</td>\n",
       "      <td>AMARAVATHI</td>\n",
       "      <td>MANDEPUDI</td>\n",
       "      <td>Nemalikallu Sivaru Mandepudi</td>\n",
       "    </tr>\n",
       "    <tr>\n",
       "      <th>648</th>\n",
       "      <td>Pedakurapadu</td>\n",
       "      <td>TDP</td>\n",
       "      <td>163</td>\n",
       "      <td>217</td>\n",
       "      <td>KOMMALAPATI SRIDHAR</td>\n",
       "      <td>2009</td>\n",
       "      <td>AMARAVATHI</td>\n",
       "      <td>MANDEPUDI</td>\n",
       "      <td>Nemalikallu Sivaru Mandepudi</td>\n",
       "    </tr>\n",
       "    <tr>\n",
       "      <th>649</th>\n",
       "      <td>Pedakurapadu</td>\n",
       "      <td>INC</td>\n",
       "      <td>296</td>\n",
       "      <td>217</td>\n",
       "      <td>Pathan Noorjahan Begum</td>\n",
       "      <td>2009</td>\n",
       "      <td>AMARAVATHI</td>\n",
       "      <td>MANDEPUDI</td>\n",
       "      <td>Nemalikallu Sivaru Mandepudi</td>\n",
       "    </tr>\n",
       "    <tr>\n",
       "      <th>650</th>\n",
       "      <td>Pedakurapadu</td>\n",
       "      <td>PRP</td>\n",
       "      <td>36</td>\n",
       "      <td>217</td>\n",
       "      <td>Basu Linga Reddy</td>\n",
       "      <td>2009</td>\n",
       "      <td>AMARAVATHI</td>\n",
       "      <td>MANDEPUDI</td>\n",
       "      <td>Nemalikallu Sivaru Mandepudi</td>\n",
       "    </tr>\n",
       "  </tbody>\n",
       "</table>\n",
       "<p>651 rows × 9 columns</p>\n",
       "</div>"
      ],
      "text/plain": [
       "           acname partyname  partyvotes  boothno           candidatename  \\\n",
       "0    Pedakurapadu       TDP         353        1     KOMMALAPATI SRIDHAR   \n",
       "1    Pedakurapadu       INC         427        1  Pathan Noorjahan Begum   \n",
       "2    Pedakurapadu       PRP         355        1        Basu Linga Reddy   \n",
       "3    Pedakurapadu       TDP         227        2     KOMMALAPATI SRIDHAR   \n",
       "4    Pedakurapadu       INC         242        2  Pathan Noorjahan Begum   \n",
       "..            ...       ...         ...      ...                     ...   \n",
       "646  Pedakurapadu       INC         389      216  Pathan Noorjahan Begum   \n",
       "647  Pedakurapadu       PRP          31      216        Basu Linga Reddy   \n",
       "648  Pedakurapadu       TDP         163      217     KOMMALAPATI SRIDHAR   \n",
       "649  Pedakurapadu       INC         296      217  Pathan Noorjahan Begum   \n",
       "650  Pedakurapadu       PRP          36      217        Basu Linga Reddy   \n",
       "\n",
       "     yearofpolling       mandal         village  \\\n",
       "0             2009  BELLAMKONDA  NANDIRAJUPALEM   \n",
       "1             2009  BELLAMKONDA  NANDIRAJUPALEM   \n",
       "2             2009  BELLAMKONDA  NANDIRAJUPALEM   \n",
       "3             2009  BELLAMKONDA  NANDIRAJUPALEM   \n",
       "4             2009  BELLAMKONDA  NANDIRAJUPALEM   \n",
       "..             ...          ...             ...   \n",
       "646           2009   AMARAVATHI       MANDEPUDI   \n",
       "647           2009   AMARAVATHI       MANDEPUDI   \n",
       "648           2009   AMARAVATHI       MANDEPUDI   \n",
       "649           2009   AMARAVATHI       MANDEPUDI   \n",
       "650           2009   AMARAVATHI       MANDEPUDI   \n",
       "\n",
       "                       villageAsECList  \n",
       "0    Bellamkonda Sivaru Nandirajupalem  \n",
       "1    Bellamkonda Sivaru Nandirajupalem  \n",
       "2    Bellamkonda Sivaru Nandirajupalem  \n",
       "3      Nandirajupalem H/O. Bellamkonda  \n",
       "4      Nandirajupalem H/O. Bellamkonda  \n",
       "..                                 ...  \n",
       "646       Nemalikallu Sivaru Mandepudi  \n",
       "647       Nemalikallu Sivaru Mandepudi  \n",
       "648       Nemalikallu Sivaru Mandepudi  \n",
       "649       Nemalikallu Sivaru Mandepudi  \n",
       "650       Nemalikallu Sivaru Mandepudi  \n",
       "\n",
       "[651 rows x 9 columns]"
      ]
     },
     "execution_count": 3,
     "metadata": {},
     "output_type": "execute_result"
    }
   ],
   "source": [
    "stdt"
   ]
  },
  {
   "cell_type": "code",
   "execution_count": 4,
   "id": "294fc061",
   "metadata": {},
   "outputs": [
    {
     "data": {
      "text/plain": [
       "(651, 9)"
      ]
     },
     "execution_count": 4,
     "metadata": {},
     "output_type": "execute_result"
    }
   ],
   "source": [
    "stdt.shape"
   ]
  },
  {
   "cell_type": "code",
   "execution_count": 5,
   "id": "88ec9890",
   "metadata": {},
   "outputs": [
    {
     "data": {
      "text/html": [
       "<div>\n",
       "<style scoped>\n",
       "    .dataframe tbody tr th:only-of-type {\n",
       "        vertical-align: middle;\n",
       "    }\n",
       "\n",
       "    .dataframe tbody tr th {\n",
       "        vertical-align: top;\n",
       "    }\n",
       "\n",
       "    .dataframe thead th {\n",
       "        text-align: right;\n",
       "    }\n",
       "</style>\n",
       "<table border=\"1\" class=\"dataframe\">\n",
       "  <thead>\n",
       "    <tr style=\"text-align: right;\">\n",
       "      <th></th>\n",
       "      <th>acname</th>\n",
       "      <th>partyname</th>\n",
       "      <th>partyvotes</th>\n",
       "      <th>boothno</th>\n",
       "      <th>candidatename</th>\n",
       "      <th>yearofpolling</th>\n",
       "      <th>mandal</th>\n",
       "      <th>village</th>\n",
       "      <th>villageAsECList</th>\n",
       "    </tr>\n",
       "  </thead>\n",
       "  <tbody>\n",
       "    <tr>\n",
       "      <th>0</th>\n",
       "      <td>Pedakurapadu</td>\n",
       "      <td>TDP</td>\n",
       "      <td>353</td>\n",
       "      <td>1</td>\n",
       "      <td>KOMMALAPATI SRIDHAR</td>\n",
       "      <td>2009</td>\n",
       "      <td>BELLAMKONDA</td>\n",
       "      <td>NANDIRAJUPALEM</td>\n",
       "      <td>Bellamkonda Sivaru Nandirajupalem</td>\n",
       "    </tr>\n",
       "    <tr>\n",
       "      <th>1</th>\n",
       "      <td>Pedakurapadu</td>\n",
       "      <td>INC</td>\n",
       "      <td>427</td>\n",
       "      <td>1</td>\n",
       "      <td>Pathan Noorjahan Begum</td>\n",
       "      <td>2009</td>\n",
       "      <td>BELLAMKONDA</td>\n",
       "      <td>NANDIRAJUPALEM</td>\n",
       "      <td>Bellamkonda Sivaru Nandirajupalem</td>\n",
       "    </tr>\n",
       "    <tr>\n",
       "      <th>2</th>\n",
       "      <td>Pedakurapadu</td>\n",
       "      <td>PRP</td>\n",
       "      <td>355</td>\n",
       "      <td>1</td>\n",
       "      <td>Basu Linga Reddy</td>\n",
       "      <td>2009</td>\n",
       "      <td>BELLAMKONDA</td>\n",
       "      <td>NANDIRAJUPALEM</td>\n",
       "      <td>Bellamkonda Sivaru Nandirajupalem</td>\n",
       "    </tr>\n",
       "    <tr>\n",
       "      <th>3</th>\n",
       "      <td>Pedakurapadu</td>\n",
       "      <td>TDP</td>\n",
       "      <td>227</td>\n",
       "      <td>2</td>\n",
       "      <td>KOMMALAPATI SRIDHAR</td>\n",
       "      <td>2009</td>\n",
       "      <td>BELLAMKONDA</td>\n",
       "      <td>NANDIRAJUPALEM</td>\n",
       "      <td>Nandirajupalem H/O. Bellamkonda</td>\n",
       "    </tr>\n",
       "    <tr>\n",
       "      <th>4</th>\n",
       "      <td>Pedakurapadu</td>\n",
       "      <td>INC</td>\n",
       "      <td>242</td>\n",
       "      <td>2</td>\n",
       "      <td>Pathan Noorjahan Begum</td>\n",
       "      <td>2009</td>\n",
       "      <td>BELLAMKONDA</td>\n",
       "      <td>NANDIRAJUPALEM</td>\n",
       "      <td>Nandirajupalem H/O. Bellamkonda</td>\n",
       "    </tr>\n",
       "  </tbody>\n",
       "</table>\n",
       "</div>"
      ],
      "text/plain": [
       "         acname partyname  partyvotes  boothno           candidatename  \\\n",
       "0  Pedakurapadu       TDP         353        1     KOMMALAPATI SRIDHAR   \n",
       "1  Pedakurapadu       INC         427        1  Pathan Noorjahan Begum   \n",
       "2  Pedakurapadu       PRP         355        1        Basu Linga Reddy   \n",
       "3  Pedakurapadu       TDP         227        2     KOMMALAPATI SRIDHAR   \n",
       "4  Pedakurapadu       INC         242        2  Pathan Noorjahan Begum   \n",
       "\n",
       "   yearofpolling       mandal         village  \\\n",
       "0           2009  BELLAMKONDA  NANDIRAJUPALEM   \n",
       "1           2009  BELLAMKONDA  NANDIRAJUPALEM   \n",
       "2           2009  BELLAMKONDA  NANDIRAJUPALEM   \n",
       "3           2009  BELLAMKONDA  NANDIRAJUPALEM   \n",
       "4           2009  BELLAMKONDA  NANDIRAJUPALEM   \n",
       "\n",
       "                     villageAsECList  \n",
       "0  Bellamkonda Sivaru Nandirajupalem  \n",
       "1  Bellamkonda Sivaru Nandirajupalem  \n",
       "2  Bellamkonda Sivaru Nandirajupalem  \n",
       "3    Nandirajupalem H/O. Bellamkonda  \n",
       "4    Nandirajupalem H/O. Bellamkonda  "
      ]
     },
     "execution_count": 5,
     "metadata": {},
     "output_type": "execute_result"
    }
   ],
   "source": [
    "stdt.head()"
   ]
  },
  {
   "cell_type": "code",
   "execution_count": 6,
   "id": "68cafdea",
   "metadata": {},
   "outputs": [],
   "source": [
    "df = pd.DataFrame(stdt, columns=[\"acname\", \"partyname\", \"partyvotes\"])"
   ]
  },
  {
   "cell_type": "code",
   "execution_count": 7,
   "id": "e5ba2a89",
   "metadata": {},
   "outputs": [
    {
     "data": {
      "text/plain": [
       "<AxesSubplot:xlabel='acname'>"
      ]
     },
     "execution_count": 7,
     "metadata": {},
     "output_type": "execute_result"
    },
    {
     "data": {
      "image/png": "[encoded data removed]",
      "text/plain": [
       "<Figure size 900x800 with 1 Axes>"
      ]
     },
     "metadata": {},
     "output_type": "display_data"
    }
   ],
   "source": [
    "df.plot(x=\"acname\", y=[\"partyname\", \"partyvotes\"], kind=\"bar\", figsize=(9, 8))"
   ]
  },
  {
   "cell_type": "code",
   "execution_count": 12,
   "id": "d97e124f",
   "metadata": {},
   "outputs": [
    {
     "data": {
      "text/plain": [
       "<AxesSubplot:xlabel='partyname'>"
      ]
     },
     "execution_count": 12,
     "metadata": {},
     "output_type": "execute_result"
    },
    {
     "data": {
      "image/png": "[encoded data removed]",
      "text/plain": [
       "<Figure size 900x800 with 1 Axes>"
      ]
     },
     "metadata": {},
     "output_type": "display_data"
    }
   ],
   "source": [
    "df.plot(x=\"partyname\", y=[\"partyvotes\"], kind=\"bar\", figsize=(9, 8))"
   ]
  },
  {
   "cell_type": "code",
   "execution_count": null,
   "id": "b47a674e",
   "metadata": {},
   "outputs": [],
   "source": [
    "stdt.describe()"
   ]
  },
  {
   "cell_type": "code",
   "execution_count": null,
   "id": "001b4433",
   "metadata": {},
   "outputs": [],
   "source": [
    "stdt.describe().T"
   ]
  },
  {
   "cell_type": "code",
   "execution_count": null,
   "id": "f84d71d6",
   "metadata": {},
   "outputs": [],
   "source": [
    "sns.pairplot(stdt)"
   ]
  },
  {
   "cell_type": "code",
   "execution_count": null,
   "id": "a5943ac5",
   "metadata": {},
   "outputs": [],
   "source": [
    "stdt.isnull()"
   ]
  },
  {
   "cell_type": "code",
   "execution_count": null,
   "id": "bd7f48f4",
   "metadata": {},
   "outputs": [],
   "source": [
    "stdt.isna()"
   ]
  },
  {
   "cell_type": "code",
   "execution_count": null,
   "id": "7c813c79",
   "metadata": {},
   "outputs": [],
   "source": [
    "stdt.fillna(stdt.mean())"
   ]
  },
  {
   "cell_type": "code",
   "execution_count": null,
   "id": "50b24848",
   "metadata": {},
   "outputs": [],
   "source": []
  },
  {
   "cell_type": "code",
   "execution_count": null,
   "id": "5a9bdfbd",
   "metadata": {},
   "outputs": [],
   "source": [
    "plt.bar(x=\"partyname\", y=[\"acname\", \"partyvotes\"], width = 0.72, kind = \"bar\" )"
   ]
  },
  {
   "cell_type": "code",
   "execution_count": null,
   "id": "c29965e1",
   "metadata": {},
   "outputs": [],
   "source": [
    "plt.show()"
   ]
  },
  {
   "cell_type": "code",
   "execution_count": null,
   "id": "6801d1ec",
   "metadata": {},
   "outputs": [],
   "source": [
    "plt.plot(x=\"Pedakurapadu\", y=[\"acname\", \"partyvotes\"], kind = \"bar\" )"
   ]
  },
  {
   "cell_type": "code",
   "execution_count": null,
   "id": "3a6ff55d",
   "metadata": {},
   "outputs": [],
   "source": []
  }
 ],
 "metadata": {
  "kernelspec": {
   "display_name": "Python 3 (ipykernel)",
   "language": "python",
   "name": "python3"
  },
  "language_info": {
   "codemirror_mode": {
    "name": "ipython",
    "version": 3
   },
   "file_extension": ".py",
   "mimetype": "text/x-python",
   "name": "python",
   "nbconvert_exporter": "python",
   "pygments_lexer": "ipython3",
   "version": "3.9.13"
  }
 },
 "nbformat": 4,
 "nbformat_minor": 5
}
