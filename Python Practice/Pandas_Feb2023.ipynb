{
 "cells": [
  {
   "cell_type": "code",
   "execution_count": null,
   "id": "5c0f8086",
   "metadata": {},
   "outputs": [],
   "source": [
    "import os #internal libraries(activation)\n",
    "\n",
    "\n",
    "import pandas #external libraries\n"
   ]
  },
  {
   "cell_type": "code",
   "execution_count": null,
   "id": "2d4314cf",
   "metadata": {},
   "outputs": [],
   "source": [
    "#pip install pandas\n"
   ]
  },
  {
   "cell_type": "code",
   "execution_count": null,
   "id": "1ff0466a",
   "metadata": {},
   "outputs": [],
   "source": [
    "import pandas as pd"
   ]
  },
  {
   "cell_type": "code",
   "execution_count": null,
   "id": "44a9f690",
   "metadata": {},
   "outputs": [],
   "source": [
    "pd. __version__"
   ]
  },
  {
   "cell_type": "code",
   "execution_count": null,
   "id": "caaece40",
   "metadata": {},
   "outputs": [],
   "source": [
    "df = pd.read_csv('/Users/taroonreddy/Documents/datasets/Diabetes.csv')    "
   ]
  },
  {
   "cell_type": "code",
   "execution_count": null,
   "id": "277f416e",
   "metadata": {},
   "outputs": [],
   "source": [
    "type(df)"
   ]
  },
  {
   "cell_type": "code",
   "execution_count": null,
   "id": "a0144b03",
   "metadata": {},
   "outputs": [],
   "source": [
    "df.head(10)"
   ]
  },
  {
   "cell_type": "code",
   "execution_count": null,
   "id": "7bc421b7",
   "metadata": {},
   "outputs": [],
   "source": [
    "df.tail(10)"
   ]
  },
  {
   "cell_type": "code",
   "execution_count": null,
   "id": "6bc27c5e",
   "metadata": {},
   "outputs": [],
   "source": [
    "#accessing url by pandas\n",
    "\n",
    "filepath = 'https://raw.githubusercontent.com/cs109/2014_data/master/countries.csv'"
   ]
  },
  {
   "cell_type": "code",
   "execution_count": null,
   "id": "fecd96cd",
   "metadata": {},
   "outputs": [],
   "source": [
    "df2 = pd.read_csv(filepath)"
   ]
  },
  {
   "cell_type": "code",
   "execution_count": null,
   "id": "dfaa4bf0",
   "metadata": {},
   "outputs": [],
   "source": [
    "df2.head()"
   ]
  },
  {
   "cell_type": "code",
   "execution_count": null,
   "id": "1a00f4c9",
   "metadata": {},
   "outputs": [],
   "source": [
    "#accessing url by pandas\n",
    "\n",
    "df2 = pd.read_csv('https://raw.githubusercontent.com/cs109/2014_data/master/countries.csv')"
   ]
  },
  {
   "cell_type": "code",
   "execution_count": null,
   "id": "9d8a65e4",
   "metadata": {},
   "outputs": [],
   "source": [
    "df2.tail()"
   ]
  },
  {
   "cell_type": "code",
   "execution_count": null,
   "id": "ae5af884",
   "metadata": {},
   "outputs": [],
   "source": [
    "import os\n",
    "os.getcwd()"
   ]
  },
  {
   "cell_type": "code",
   "execution_count": null,
   "id": "2ba92bf7",
   "metadata": {},
   "outputs": [],
   "source": [
    "os.chdir('/Users/taroonreddy/Documents/datasets/')"
   ]
  },
  {
   "cell_type": "code",
   "execution_count": null,
   "id": "402a1cd1",
   "metadata": {},
   "outputs": [],
   "source": [
    "os.getcwd()"
   ]
  },
  {
   "cell_type": "code",
   "execution_count": null,
   "id": "3b284550",
   "metadata": {},
   "outputs": [],
   "source": [
    "df3 = pd.read_csv('Diabetes.csv')\n",
    "df3"
   ]
  },
  {
   "cell_type": "code",
   "execution_count": null,
   "id": "e62a40bc",
   "metadata": {},
   "outputs": [],
   "source": [
    "df4 = pd.read_csv('Salary.csv')\n",
    "df4"
   ]
  },
  {
   "cell_type": "code",
   "execution_count": null,
   "id": "8c3f796b",
   "metadata": {},
   "outputs": [],
   "source": [
    "df.shape"
   ]
  },
  {
   "cell_type": "code",
   "execution_count": null,
   "id": "0262abc5",
   "metadata": {},
   "outputs": [],
   "source": [
    "df.head(3)"
   ]
  },
  {
   "cell_type": "code",
   "execution_count": null,
   "id": "9b8258a2",
   "metadata": {},
   "outputs": [],
   "source": [
    "df.isna()\n",
    "Diabetes = df"
   ]
  },
  {
   "cell_type": "code",
   "execution_count": null,
   "id": "c8e1b5e6",
   "metadata": {},
   "outputs": [],
   "source": [
    "df.isnull().sum()"
   ]
  },
  {
   "cell_type": "code",
   "execution_count": null,
   "id": "c5898b1a",
   "metadata": {},
   "outputs": [],
   "source": [
    "Diabetes.isna().any()"
   ]
  },
  {
   "cell_type": "code",
   "execution_count": null,
   "id": "14891384",
   "metadata": {},
   "outputs": [],
   "source": [
    "Diabetes.isnull().sum()"
   ]
  },
  {
   "cell_type": "code",
   "execution_count": null,
   "id": "3422dd86",
   "metadata": {},
   "outputs": [],
   "source": [
    "Diabetes.columns"
   ]
  },
  {
   "cell_type": "code",
   "execution_count": null,
   "id": "0ba5f461",
   "metadata": {},
   "outputs": [],
   "source": [
    "Diabetes[' Age (years)']"
   ]
  },
  {
   "cell_type": "code",
   "execution_count": null,
   "id": "898265dc",
   "metadata": {},
   "outputs": [],
   "source": [
    "Diabetes.dtypes"
   ]
  },
  {
   "cell_type": "code",
   "execution_count": null,
   "id": "89272dbd",
   "metadata": {},
   "outputs": [],
   "source": [
    "Diabetes.info"
   ]
  },
  {
   "cell_type": "code",
   "execution_count": null,
   "id": "c93e7300",
   "metadata": {},
   "outputs": [],
   "source": [
    "Diabetes[' Class variable'].unique()"
   ]
  },
  {
   "cell_type": "code",
   "execution_count": null,
   "id": "1762a3a3",
   "metadata": {},
   "outputs": [],
   "source": [
    "Diabetes[' Class variable'].value_counts()"
   ]
  },
  {
   "cell_type": "code",
   "execution_count": null,
   "id": "9b6fc4d1",
   "metadata": {},
   "outputs": [],
   "source": [
    "Diabetes.iloc[0:4,0:2]"
   ]
  },
  {
   "cell_type": "code",
   "execution_count": null,
   "id": "99de24ce",
   "metadata": {},
   "outputs": [],
   "source": [
    "Diabetes.columns"
   ]
  },
  {
   "cell_type": "code",
   "execution_count": null,
   "id": "20fdef53",
   "metadata": {},
   "outputs": [],
   "source": [
    "Diabetes.loc[0:5,:' Age (years)']"
   ]
  },
  {
   "cell_type": "code",
   "execution_count": null,
   "id": "7e573b7a",
   "metadata": {},
   "outputs": [],
   "source": [
    "Diabetes[' Age (years)'].median()"
   ]
  },
  {
   "cell_type": "code",
   "execution_count": null,
   "id": "10c81c3d",
   "metadata": {},
   "outputs": [],
   "source": [
    "Diabetes.describe().T"
   ]
  },
  {
   "cell_type": "code",
   "execution_count": null,
   "id": "53b77609",
   "metadata": {},
   "outputs": [],
   "source": [
    "#list of tuples\n",
    "\n",
    "weather_data = [\n",
    "                ('1/1/2017', 32, 6, 'Rain'),\n",
    "                ('1/2/2017', 35, 7, 'Sunny'),\n",
    "                ('1/3/2017', 28, 2, 'Snow'),\n",
    "                ('1/4/2017', 24, 7, 'Snow'),\n",
    "                ('1/5/2017', 32, 4, 'Rain'),\n",
    "                ('1/6/2017', 31, 2, 'Sunny')\n",
    "               ]\n",
    "\n",
    "weather_data"
   ]
  },
  {
   "cell_type": "code",
   "execution_count": null,
   "id": "65b6d706",
   "metadata": {},
   "outputs": [],
   "source": [
    "df = pd.DataFrame(weather_data, columns=['Date', 'Temperature', 'Windspeed', 'Event'])\n",
    "df"
   ]
  },
  {
   "cell_type": "code",
   "execution_count": null,
   "id": "cdddc788",
   "metadata": {},
   "outputs": [],
   "source": [
    "df"
   ]
  },
  {
   "cell_type": "code",
   "execution_count": null,
   "id": "23bbf646",
   "metadata": {},
   "outputs": [],
   "source": [
    "os.getcwd()"
   ]
  },
  {
   "cell_type": "code",
   "execution_count": 1,
   "id": "ebb77643",
   "metadata": {},
   "outputs": [
    {
     "ename": "NameError",
     "evalue": "name 'df' is not defined",
     "output_type": "error",
     "traceback": [
      "\u001b[1;31m---------------------------------------------------------------------------\u001b[0m",
      "\u001b[1;31mNameError\u001b[0m                                 Traceback (most recent call last)",
      "\u001b[1;32m~\\AppData\\Local\\Temp\\ipykernel_12660\\2201822901.py\u001b[0m in \u001b[0;36m<module>\u001b[1;34m\u001b[0m\n\u001b[1;32m----> 1\u001b[1;33m \u001b[0mdf\u001b[0m\u001b[1;33m.\u001b[0m\u001b[0mto_csv\u001b[0m\u001b[1;33m(\u001b[0m\u001b[1;34m'weather_data'\u001b[0m\u001b[1;33m,\u001b[0m\u001b[0mindex\u001b[0m\u001b[1;33m=\u001b[0m\u001b[1;32mFalse\u001b[0m\u001b[1;33m)\u001b[0m\u001b[1;33m\u001b[0m\u001b[1;33m\u001b[0m\u001b[0m\n\u001b[0m",
      "\u001b[1;31mNameError\u001b[0m: name 'df' is not defined"
     ]
    }
   ],
   "source": [
    "df.to_csv('weather_data',index=False)"
   ]
  },
  {
   "cell_type": "code",
   "execution_count": null,
   "id": "5cfeaf41",
   "metadata": {},
   "outputs": [],
   "source": [
    "os.getcwd()"
   ]
  },
  {
   "cell_type": "code",
   "execution_count": null,
   "id": "4e8272a3",
   "metadata": {},
   "outputs": [],
   "source": [
    "os.chdir()"
   ]
  },
  {
   "cell_type": "code",
   "execution_count": null,
   "id": "1320d6d2",
   "metadata": {},
   "outputs": [],
   "source": [
    "df = pd.read_csv('weather_data_cities.csv')"
   ]
  },
  {
   "cell_type": "code",
   "execution_count": null,
   "id": "ca2acac2",
   "metadata": {},
   "outputs": [],
   "source": [
    "df"
   ]
  },
  {
   "cell_type": "code",
   "execution_count": null,
   "id": "f21f1cee",
   "metadata": {},
   "outputs": [],
   "source": [
    "g = df.groupby('city')"
   ]
  },
  {
   "cell_type": "code",
   "execution_count": null,
   "id": "48979259",
   "metadata": {},
   "outputs": [],
   "source": [
    "g"
   ]
  },
  {
   "cell_type": "code",
   "execution_count": null,
   "id": "aad47ad4",
   "metadata": {},
   "outputs": [],
   "source": [
    "for x in g:\n",
    "    print(x)"
   ]
  },
  {
   "cell_type": "code",
   "execution_count": null,
   "id": "84f82d0e",
   "metadata": {},
   "outputs": [],
   "source": [
    "for x,y in g:\n",
    "    print(x,y)"
   ]
  },
  {
   "cell_type": "code",
   "execution_count": null,
   "id": "e6c10cee",
   "metadata": {},
   "outputs": [],
   "source": [
    "g.get_group('new york')"
   ]
  },
  {
   "cell_type": "code",
   "execution_count": null,
   "id": "2d974cda",
   "metadata": {},
   "outputs": [],
   "source": [
    "print(g.max())"
   ]
  },
  {
   "cell_type": "code",
   "execution_count": null,
   "id": "692ac1a1",
   "metadata": {},
   "outputs": [],
   "source": [
    "print(g.min())"
   ]
  },
  {
   "cell_type": "code",
   "execution_count": null,
   "id": "c6aeb58f",
   "metadata": {},
   "outputs": [],
   "source": []
  },
  {
   "cell_type": "code",
   "execution_count": null,
   "id": "50063f3b",
   "metadata": {},
   "outputs": [],
   "source": []
  }
 ],
 "metadata": {
  "kernelspec": {
   "display_name": "Python 3 (ipykernel)",
   "language": "python",
   "name": "python3"
  },
  "language_info": {
   "codemirror_mode": {
    "name": "ipython",
    "version": 3
   },
   "file_extension": ".py",
   "mimetype": "text/x-python",
   "name": "python",
   "nbconvert_exporter": "python",
   "pygments_lexer": "ipython3",
   "version": "3.9.13"
  }
 },
 "nbformat": 4,
 "nbformat_minor": 5
}
