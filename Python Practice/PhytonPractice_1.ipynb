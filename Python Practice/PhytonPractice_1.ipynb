{
 "cells": [
  {
   "cell_type": "code",
   "execution_count": 1,
   "id": "f6b8bfce",
   "metadata": {},
   "outputs": [
    {
     "name": "stdout",
     "output_type": "stream",
     "text": [
      "santosh\n"
     ]
    }
   ],
   "source": [
    "print(\"santosh\")"
   ]
  },
  {
   "cell_type": "code",
   "execution_count": 2,
   "id": "227285c4",
   "metadata": {},
   "outputs": [
    {
     "name": "stdout",
     "output_type": "stream",
     "text": [
      "6\n"
     ]
    }
   ],
   "source": [
    "beautiful_number = input()"
   ]
  },
  {
   "cell_type": "code",
   "execution_count": 3,
   "id": "fc9e2619",
   "metadata": {},
   "outputs": [
    {
     "name": "stdout",
     "output_type": "stream",
     "text": [
      "6\n"
     ]
    }
   ],
   "source": [
    "print(beautiful_number)"
   ]
  },
  {
   "cell_type": "code",
   "execution_count": 5,
   "id": "5544e298",
   "metadata": {},
   "outputs": [
    {
     "name": "stdout",
     "output_type": "stream",
     "text": [
      "55555555555555555555\n"
     ]
    }
   ],
   "source": [
    "print(\"5\"*20)"
   ]
  },
  {
   "cell_type": "code",
   "execution_count": 6,
   "id": "e57314bd",
   "metadata": {},
   "outputs": [
    {
     "name": "stdout",
     "output_type": "stream",
     "text": [
      "LOVE,30,82.2\n"
     ]
    }
   ],
   "source": [
    "print('LOVE', 30, 82.2, sep=',')"
   ]
  },
  {
   "cell_type": "code",
   "execution_count": 7,
   "id": "b3d1c988",
   "metadata": {},
   "outputs": [
    {
     "name": "stdout",
     "output_type": "stream",
     "text": [
      "LOVE 30 82.2\n"
     ]
    }
   ],
   "source": [
    "print('LOVE', 30, 82.2)"
   ]
  },
  {
   "cell_type": "code",
   "execution_count": 8,
   "id": "7271b7ee",
   "metadata": {},
   "outputs": [
    {
     "name": "stdout",
     "output_type": "stream",
     "text": [
      "LOVE,30,82.2!!\n"
     ]
    }
   ],
   "source": [
    "print('LOVE', 30, 82.2, sep=',', end='!!\\n')"
   ]
  },
  {
   "cell_type": "code",
   "execution_count": null,
   "id": "c0e7aae2",
   "metadata": {},
   "outputs": [],
   "source": []
  }
 ],
 "metadata": {
  "kernelspec": {
   "display_name": "Python 3 (ipykernel)",
   "language": "python",
   "name": "python3"
  },
  "language_info": {
   "codemirror_mode": {
    "name": "ipython",
    "version": 3
   },
   "file_extension": ".py",
   "mimetype": "text/x-python",
   "name": "python",
   "nbconvert_exporter": "python",
   "pygments_lexer": "ipython3",
   "version": "3.9.13"
  }
 },
 "nbformat": 4,
 "nbformat_minor": 5
}
