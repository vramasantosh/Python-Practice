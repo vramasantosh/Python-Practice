{
 "cells": [
  {
   "cell_type": "markdown",
   "id": "f00059e7",
   "metadata": {},
   "source": [
    "# Problem Statment : \n"
   ]
  },
  {
   "cell_type": "markdown",
   "id": "77e98d87",
   "metadata": {},
   "source": [
    "## 1.Data Preparation & Feature Engineering"
   ]
  },
  {
   "cell_type": "markdown",
   "id": "ca07e6ce",
   "metadata": {},
   "source": [
    "    1.Pandas(Data Manipuation) - Import datset\n",
    "    2.Data Inspection \n",
    "    3.Data Visulization\n",
    "    4.Exploratory Data Analysis - Univariate/Bi-variate/Multi-vartiate Analysis\n",
    "    5.Missing Data Imputation Technique\n",
    "    6.Categorical Encoding Techique\n",
    "    7.Outlier Treatement\n",
    "    8.Logical code - example combining 1 and 2 variable and trying to get 3 column\n"
   ]
  },
  {
   "cell_type": "markdown",
   "id": "a7c4734b",
   "metadata": {},
   "source": [
    "## 2.Data Partioning - Training & Testiong -- 70/30 - 80/20"
   ]
  },
  {
   "cell_type": "markdown",
   "id": "0fb7d949",
   "metadata": {},
   "source": [
    "    1.Splitting the data - Logic Code\n",
    "    2.Sklearn Package - Training & Testting -  Model Building/Model Validation"
   ]
  },
  {
   "cell_type": "markdown",
   "id": "a24589d0",
   "metadata": {},
   "source": [
    "## 3.Data Modelling - Machine Learning(Predictive Modelling) /Algorithms"
   ]
  },
  {
   "cell_type": "markdown",
   "id": "4d3e9008",
   "metadata": {},
   "source": [
    "    Supervised Learning /Un-Supervised Learning\n",
    "    Supervised Learning (Regression Predictive Modelling(numerical) / Classification Predictive Modelling(categorical))"
   ]
  },
  {
   "cell_type": "markdown",
   "id": "409eadcf",
   "metadata": {},
   "source": [
    "## 4.Performance Metrics "
   ]
  },
  {
   "cell_type": "markdown",
   "id": "f7ffc52e",
   "metadata": {},
   "source": [
    "     1. Regression Predictive Modelling\n",
    "        Mse\n",
    "        Rmse\n",
    "        RSquare\n",
    "        AdjRsquare\n",
    "        Mae\n",
    "        Mape\n",
    "    2.Classification Predictive Modelling\n",
    "        Accuracy\n",
    "        Precission\n",
    "        Recall\n",
    "        F1score"
   ]
  },
  {
   "cell_type": "markdown",
   "id": "574453ab",
   "metadata": {},
   "source": [
    "## 5.Making Improvements"
   ]
  },
  {
   "cell_type": "code",
   "execution_count": null,
   "id": "1e160b79",
   "metadata": {},
   "outputs": [],
   "source": [
    "    1.Variance\n",
    "    2.Bias\n",
    "    3.Overfitting\n",
    "    4.Underfitting\n",
    "    5.Roc Auc Curve\n",
    "    6.Hyper parameter tuning"
   ]
  }
 ],
 "metadata": {
  "kernelspec": {
   "display_name": "Python 3 (ipykernel)",
   "language": "python",
   "name": "python3"
  },
  "language_info": {
   "codemirror_mode": {
    "name": "ipython",
    "version": 3
   },
   "file_extension": ".py",
   "mimetype": "text/x-python",
   "name": "python",
   "nbconvert_exporter": "python",
   "pygments_lexer": "ipython3",
   "version": "3.9.13"
  }
 },
 "nbformat": 4,
 "nbformat_minor": 5
}
